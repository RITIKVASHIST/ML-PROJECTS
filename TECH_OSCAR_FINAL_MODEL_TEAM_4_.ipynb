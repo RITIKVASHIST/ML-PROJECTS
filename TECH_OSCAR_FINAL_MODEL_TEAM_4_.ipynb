{
  "cells": [
    {
      "cell_type": "markdown",
      "id": "903be291",
      "metadata": {
        "id": "903be291"
      },
      "source": [
        "# TECH_OSCAR PREDICTION MODEL  **TEAM 4**"
      ]
    },
    {
      "cell_type": "code",
      "execution_count": null,
      "id": "a38d707a",
      "metadata": {
        "id": "a38d707a"
      },
      "outputs": [],
      "source": [
        "#Import the libraries:\n",
        "import pandas as pd\n",
        "import numpy as np\n",
        "import matplotlib.pyplot as plt\n",
        "import seaborn as sns\n",
        "from sklearn.model_selection import train_test_split, cross_val_score\n",
        "from sklearn.preprocessing import StandardScaler\n",
        "from sklearn.neighbors import KNeighborsClassifier\n",
        "from sklearn.metrics import classification_report, accuracy_score"
      ]
    },
    {
      "cell_type": "code",
      "execution_count": null,
      "id": "1553ffca",
      "metadata": {
        "id": "1553ffca"
      },
      "outputs": [],
      "source": [
        "# Load the dataset\n",
        "file_path = '/content/data.csv'\n",
        "df = pd.read_csv(file_path)"
      ]
    },
    {
      "cell_type": "code",
      "execution_count": null,
      "id": "2321cc7e",
      "metadata": {
        "colab": {
          "base_uri": "https://localhost:8080/",
          "height": 243
        },
        "id": "2321cc7e",
        "outputId": "fe694a26-3f00-4d87-c1d0-5b34a6ab7f0c"
      },
      "outputs": [
        {
          "output_type": "execute_result",
          "data": {
            "text/plain": [
              "   Marketing expense  Production expense  Multiplex coverage     Budget  \\\n",
              "0            20.1264               59.62               0.462  36524.125   \n",
              "1            20.5462               69.14               0.531  35668.655   \n",
              "2            20.5458               69.14               0.531  39912.675   \n",
              "3            20.6474               59.36               0.542  38873.890   \n",
              "4            21.3810               59.36               0.542  39701.585   \n",
              "\n",
              "   Movie_length  Lead_ Actor_Rating  Lead_Actress_rating  Director_rating  \\\n",
              "0         138.7               7.825                8.095            7.910   \n",
              "1         152.4               7.505                7.650            7.440   \n",
              "2         134.6               7.485                7.570            7.495   \n",
              "3         119.3               6.895                7.035            6.920   \n",
              "4         127.7               6.920                7.070            6.815   \n",
              "\n",
              "   Producer_rating  Critic_rating  Trailer_views 3D_available  Time_taken  \\\n",
              "0            7.995           7.94         527367          YES      109.60   \n",
              "1            7.470           7.44         494055           NO      146.64   \n",
              "2            7.515           7.44         547051           NO      147.88   \n",
              "3            7.020           8.26         516279          YES      185.36   \n",
              "4            7.070           8.26         531448           NO      176.48   \n",
              "\n",
              "   Twitter_hastags     Genre  Avg_age_actors  Num_multiplex  Collection  \\\n",
              "0          223.840  Thriller              23            494       48000   \n",
              "1          243.456     Drama              42            462       43200   \n",
              "2         2022.400    Comedy              38            458       69400   \n",
              "3          225.344     Drama              45            472       66800   \n",
              "4          225.792     Drama              55            395       72400   \n",
              "\n",
              "   Tech_Oscar  \n",
              "0           1  \n",
              "1           0  \n",
              "2           1  \n",
              "3           1  \n",
              "4           1  "
            ],
            "text/html": [
              "\n",
              "  <div id=\"df-70d78649-e190-40db-b4e0-2fbdbff7e1e0\" class=\"colab-df-container\">\n",
              "    <div>\n",
              "<style scoped>\n",
              "    .dataframe tbody tr th:only-of-type {\n",
              "        vertical-align: middle;\n",
              "    }\n",
              "\n",
              "    .dataframe tbody tr th {\n",
              "        vertical-align: top;\n",
              "    }\n",
              "\n",
              "    .dataframe thead th {\n",
              "        text-align: right;\n",
              "    }\n",
              "</style>\n",
              "<table border=\"1\" class=\"dataframe\">\n",
              "  <thead>\n",
              "    <tr style=\"text-align: right;\">\n",
              "      <th></th>\n",
              "      <th>Marketing expense</th>\n",
              "      <th>Production expense</th>\n",
              "      <th>Multiplex coverage</th>\n",
              "      <th>Budget</th>\n",
              "      <th>Movie_length</th>\n",
              "      <th>Lead_ Actor_Rating</th>\n",
              "      <th>Lead_Actress_rating</th>\n",
              "      <th>Director_rating</th>\n",
              "      <th>Producer_rating</th>\n",
              "      <th>Critic_rating</th>\n",
              "      <th>Trailer_views</th>\n",
              "      <th>3D_available</th>\n",
              "      <th>Time_taken</th>\n",
              "      <th>Twitter_hastags</th>\n",
              "      <th>Genre</th>\n",
              "      <th>Avg_age_actors</th>\n",
              "      <th>Num_multiplex</th>\n",
              "      <th>Collection</th>\n",
              "      <th>Tech_Oscar</th>\n",
              "    </tr>\n",
              "  </thead>\n",
              "  <tbody>\n",
              "    <tr>\n",
              "      <th>0</th>\n",
              "      <td>20.1264</td>\n",
              "      <td>59.62</td>\n",
              "      <td>0.462</td>\n",
              "      <td>36524.125</td>\n",
              "      <td>138.7</td>\n",
              "      <td>7.825</td>\n",
              "      <td>8.095</td>\n",
              "      <td>7.910</td>\n",
              "      <td>7.995</td>\n",
              "      <td>7.94</td>\n",
              "      <td>527367</td>\n",
              "      <td>YES</td>\n",
              "      <td>109.60</td>\n",
              "      <td>223.840</td>\n",
              "      <td>Thriller</td>\n",
              "      <td>23</td>\n",
              "      <td>494</td>\n",
              "      <td>48000</td>\n",
              "      <td>1</td>\n",
              "    </tr>\n",
              "    <tr>\n",
              "      <th>1</th>\n",
              "      <td>20.5462</td>\n",
              "      <td>69.14</td>\n",
              "      <td>0.531</td>\n",
              "      <td>35668.655</td>\n",
              "      <td>152.4</td>\n",
              "      <td>7.505</td>\n",
              "      <td>7.650</td>\n",
              "      <td>7.440</td>\n",
              "      <td>7.470</td>\n",
              "      <td>7.44</td>\n",
              "      <td>494055</td>\n",
              "      <td>NO</td>\n",
              "      <td>146.64</td>\n",
              "      <td>243.456</td>\n",
              "      <td>Drama</td>\n",
              "      <td>42</td>\n",
              "      <td>462</td>\n",
              "      <td>43200</td>\n",
              "      <td>0</td>\n",
              "    </tr>\n",
              "    <tr>\n",
              "      <th>2</th>\n",
              "      <td>20.5458</td>\n",
              "      <td>69.14</td>\n",
              "      <td>0.531</td>\n",
              "      <td>39912.675</td>\n",
              "      <td>134.6</td>\n",
              "      <td>7.485</td>\n",
              "      <td>7.570</td>\n",
              "      <td>7.495</td>\n",
              "      <td>7.515</td>\n",
              "      <td>7.44</td>\n",
              "      <td>547051</td>\n",
              "      <td>NO</td>\n",
              "      <td>147.88</td>\n",
              "      <td>2022.400</td>\n",
              "      <td>Comedy</td>\n",
              "      <td>38</td>\n",
              "      <td>458</td>\n",
              "      <td>69400</td>\n",
              "      <td>1</td>\n",
              "    </tr>\n",
              "    <tr>\n",
              "      <th>3</th>\n",
              "      <td>20.6474</td>\n",
              "      <td>59.36</td>\n",
              "      <td>0.542</td>\n",
              "      <td>38873.890</td>\n",
              "      <td>119.3</td>\n",
              "      <td>6.895</td>\n",
              "      <td>7.035</td>\n",
              "      <td>6.920</td>\n",
              "      <td>7.020</td>\n",
              "      <td>8.26</td>\n",
              "      <td>516279</td>\n",
              "      <td>YES</td>\n",
              "      <td>185.36</td>\n",
              "      <td>225.344</td>\n",
              "      <td>Drama</td>\n",
              "      <td>45</td>\n",
              "      <td>472</td>\n",
              "      <td>66800</td>\n",
              "      <td>1</td>\n",
              "    </tr>\n",
              "    <tr>\n",
              "      <th>4</th>\n",
              "      <td>21.3810</td>\n",
              "      <td>59.36</td>\n",
              "      <td>0.542</td>\n",
              "      <td>39701.585</td>\n",
              "      <td>127.7</td>\n",
              "      <td>6.920</td>\n",
              "      <td>7.070</td>\n",
              "      <td>6.815</td>\n",
              "      <td>7.070</td>\n",
              "      <td>8.26</td>\n",
              "      <td>531448</td>\n",
              "      <td>NO</td>\n",
              "      <td>176.48</td>\n",
              "      <td>225.792</td>\n",
              "      <td>Drama</td>\n",
              "      <td>55</td>\n",
              "      <td>395</td>\n",
              "      <td>72400</td>\n",
              "      <td>1</td>\n",
              "    </tr>\n",
              "  </tbody>\n",
              "</table>\n",
              "</div>\n",
              "    <div class=\"colab-df-buttons\">\n",
              "\n",
              "  <div class=\"colab-df-container\">\n",
              "    <button class=\"colab-df-convert\" onclick=\"convertToInteractive('df-70d78649-e190-40db-b4e0-2fbdbff7e1e0')\"\n",
              "            title=\"Convert this dataframe to an interactive table.\"\n",
              "            style=\"display:none;\">\n",
              "\n",
              "  <svg xmlns=\"http://www.w3.org/2000/svg\" height=\"24px\" viewBox=\"0 -960 960 960\">\n",
              "    <path d=\"M120-120v-720h720v720H120Zm60-500h600v-160H180v160Zm220 220h160v-160H400v160Zm0 220h160v-160H400v160ZM180-400h160v-160H180v160Zm440 0h160v-160H620v160ZM180-180h160v-160H180v160Zm440 0h160v-160H620v160Z\"/>\n",
              "  </svg>\n",
              "    </button>\n",
              "\n",
              "  <style>\n",
              "    .colab-df-container {\n",
              "      display:flex;\n",
              "      gap: 12px;\n",
              "    }\n",
              "\n",
              "    .colab-df-convert {\n",
              "      background-color: #E8F0FE;\n",
              "      border: none;\n",
              "      border-radius: 50%;\n",
              "      cursor: pointer;\n",
              "      display: none;\n",
              "      fill: #1967D2;\n",
              "      height: 32px;\n",
              "      padding: 0 0 0 0;\n",
              "      width: 32px;\n",
              "    }\n",
              "\n",
              "    .colab-df-convert:hover {\n",
              "      background-color: #E2EBFA;\n",
              "      box-shadow: 0px 1px 2px rgba(60, 64, 67, 0.3), 0px 1px 3px 1px rgba(60, 64, 67, 0.15);\n",
              "      fill: #174EA6;\n",
              "    }\n",
              "\n",
              "    .colab-df-buttons div {\n",
              "      margin-bottom: 4px;\n",
              "    }\n",
              "\n",
              "    [theme=dark] .colab-df-convert {\n",
              "      background-color: #3B4455;\n",
              "      fill: #D2E3FC;\n",
              "    }\n",
              "\n",
              "    [theme=dark] .colab-df-convert:hover {\n",
              "      background-color: #434B5C;\n",
              "      box-shadow: 0px 1px 3px 1px rgba(0, 0, 0, 0.15);\n",
              "      filter: drop-shadow(0px 1px 2px rgba(0, 0, 0, 0.3));\n",
              "      fill: #FFFFFF;\n",
              "    }\n",
              "  </style>\n",
              "\n",
              "    <script>\n",
              "      const buttonEl =\n",
              "        document.querySelector('#df-70d78649-e190-40db-b4e0-2fbdbff7e1e0 button.colab-df-convert');\n",
              "      buttonEl.style.display =\n",
              "        google.colab.kernel.accessAllowed ? 'block' : 'none';\n",
              "\n",
              "      async function convertToInteractive(key) {\n",
              "        const element = document.querySelector('#df-70d78649-e190-40db-b4e0-2fbdbff7e1e0');\n",
              "        const dataTable =\n",
              "          await google.colab.kernel.invokeFunction('convertToInteractive',\n",
              "                                                    [key], {});\n",
              "        if (!dataTable) return;\n",
              "\n",
              "        const docLinkHtml = 'Like what you see? Visit the ' +\n",
              "          '<a target=\"_blank\" href=https://colab.research.google.com/notebooks/data_table.ipynb>data table notebook</a>'\n",
              "          + ' to learn more about interactive tables.';\n",
              "        element.innerHTML = '';\n",
              "        dataTable['output_type'] = 'display_data';\n",
              "        await google.colab.output.renderOutput(dataTable, element);\n",
              "        const docLink = document.createElement('div');\n",
              "        docLink.innerHTML = docLinkHtml;\n",
              "        element.appendChild(docLink);\n",
              "      }\n",
              "    </script>\n",
              "  </div>\n",
              "\n",
              "\n",
              "<div id=\"df-3c04167c-893f-411c-8939-ae2298f50c54\">\n",
              "  <button class=\"colab-df-quickchart\" onclick=\"quickchart('df-3c04167c-893f-411c-8939-ae2298f50c54')\"\n",
              "            title=\"Suggest charts\"\n",
              "            style=\"display:none;\">\n",
              "\n",
              "<svg xmlns=\"http://www.w3.org/2000/svg\" height=\"24px\"viewBox=\"0 0 24 24\"\n",
              "     width=\"24px\">\n",
              "    <g>\n",
              "        <path d=\"M19 3H5c-1.1 0-2 .9-2 2v14c0 1.1.9 2 2 2h14c1.1 0 2-.9 2-2V5c0-1.1-.9-2-2-2zM9 17H7v-7h2v7zm4 0h-2V7h2v10zm4 0h-2v-4h2v4z\"/>\n",
              "    </g>\n",
              "</svg>\n",
              "  </button>\n",
              "\n",
              "<style>\n",
              "  .colab-df-quickchart {\n",
              "      --bg-color: #E8F0FE;\n",
              "      --fill-color: #1967D2;\n",
              "      --hover-bg-color: #E2EBFA;\n",
              "      --hover-fill-color: #174EA6;\n",
              "      --disabled-fill-color: #AAA;\n",
              "      --disabled-bg-color: #DDD;\n",
              "  }\n",
              "\n",
              "  [theme=dark] .colab-df-quickchart {\n",
              "      --bg-color: #3B4455;\n",
              "      --fill-color: #D2E3FC;\n",
              "      --hover-bg-color: #434B5C;\n",
              "      --hover-fill-color: #FFFFFF;\n",
              "      --disabled-bg-color: #3B4455;\n",
              "      --disabled-fill-color: #666;\n",
              "  }\n",
              "\n",
              "  .colab-df-quickchart {\n",
              "    background-color: var(--bg-color);\n",
              "    border: none;\n",
              "    border-radius: 50%;\n",
              "    cursor: pointer;\n",
              "    display: none;\n",
              "    fill: var(--fill-color);\n",
              "    height: 32px;\n",
              "    padding: 0;\n",
              "    width: 32px;\n",
              "  }\n",
              "\n",
              "  .colab-df-quickchart:hover {\n",
              "    background-color: var(--hover-bg-color);\n",
              "    box-shadow: 0 1px 2px rgba(60, 64, 67, 0.3), 0 1px 3px 1px rgba(60, 64, 67, 0.15);\n",
              "    fill: var(--button-hover-fill-color);\n",
              "  }\n",
              "\n",
              "  .colab-df-quickchart-complete:disabled,\n",
              "  .colab-df-quickchart-complete:disabled:hover {\n",
              "    background-color: var(--disabled-bg-color);\n",
              "    fill: var(--disabled-fill-color);\n",
              "    box-shadow: none;\n",
              "  }\n",
              "\n",
              "  .colab-df-spinner {\n",
              "    border: 2px solid var(--fill-color);\n",
              "    border-color: transparent;\n",
              "    border-bottom-color: var(--fill-color);\n",
              "    animation:\n",
              "      spin 1s steps(1) infinite;\n",
              "  }\n",
              "\n",
              "  @keyframes spin {\n",
              "    0% {\n",
              "      border-color: transparent;\n",
              "      border-bottom-color: var(--fill-color);\n",
              "      border-left-color: var(--fill-color);\n",
              "    }\n",
              "    20% {\n",
              "      border-color: transparent;\n",
              "      border-left-color: var(--fill-color);\n",
              "      border-top-color: var(--fill-color);\n",
              "    }\n",
              "    30% {\n",
              "      border-color: transparent;\n",
              "      border-left-color: var(--fill-color);\n",
              "      border-top-color: var(--fill-color);\n",
              "      border-right-color: var(--fill-color);\n",
              "    }\n",
              "    40% {\n",
              "      border-color: transparent;\n",
              "      border-right-color: var(--fill-color);\n",
              "      border-top-color: var(--fill-color);\n",
              "    }\n",
              "    60% {\n",
              "      border-color: transparent;\n",
              "      border-right-color: var(--fill-color);\n",
              "    }\n",
              "    80% {\n",
              "      border-color: transparent;\n",
              "      border-right-color: var(--fill-color);\n",
              "      border-bottom-color: var(--fill-color);\n",
              "    }\n",
              "    90% {\n",
              "      border-color: transparent;\n",
              "      border-bottom-color: var(--fill-color);\n",
              "    }\n",
              "  }\n",
              "</style>\n",
              "\n",
              "  <script>\n",
              "    async function quickchart(key) {\n",
              "      const quickchartButtonEl =\n",
              "        document.querySelector('#' + key + ' button');\n",
              "      quickchartButtonEl.disabled = true;  // To prevent multiple clicks.\n",
              "      quickchartButtonEl.classList.add('colab-df-spinner');\n",
              "      try {\n",
              "        const charts = await google.colab.kernel.invokeFunction(\n",
              "            'suggestCharts', [key], {});\n",
              "      } catch (error) {\n",
              "        console.error('Error during call to suggestCharts:', error);\n",
              "      }\n",
              "      quickchartButtonEl.classList.remove('colab-df-spinner');\n",
              "      quickchartButtonEl.classList.add('colab-df-quickchart-complete');\n",
              "    }\n",
              "    (() => {\n",
              "      let quickchartButtonEl =\n",
              "        document.querySelector('#df-3c04167c-893f-411c-8939-ae2298f50c54 button');\n",
              "      quickchartButtonEl.style.display =\n",
              "        google.colab.kernel.accessAllowed ? 'block' : 'none';\n",
              "    })();\n",
              "  </script>\n",
              "</div>\n",
              "\n",
              "    </div>\n",
              "  </div>\n"
            ],
            "application/vnd.google.colaboratory.intrinsic+json": {
              "type": "dataframe",
              "variable_name": "df",
              "summary": "{\n  \"name\": \"df\",\n  \"rows\": 513,\n  \"fields\": [\n    {\n      \"column\": \"Marketing expense\",\n      \"properties\": {\n        \"dtype\": \"number\",\n        \"std\": 171.03669465944583,\n        \"min\": 20.1264,\n        \"max\": 1799.524,\n        \"num_unique_values\": 504,\n        \"samples\": [\n          21.8356,\n          21.1288,\n          22.1148\n        ],\n        \"semantic_type\": \"\",\n        \"description\": \"\"\n      }\n    },\n    {\n      \"column\": \"Production expense\",\n      \"properties\": {\n        \"dtype\": \"number\",\n        \"std\": 13.665391924575077,\n        \"min\": 55.92,\n        \"max\": 110.48,\n        \"num_unique_values\": 76,\n        \"samples\": [\n          71.28,\n          57.94,\n          57.44\n        ],\n        \"semantic_type\": \"\",\n        \"description\": \"\"\n      }\n    },\n    {\n      \"column\": \"Multiplex coverage\",\n      \"properties\": {\n        \"dtype\": \"number\",\n        \"std\": 0.11576453312031106,\n        \"min\": 0.129,\n        \"max\": 0.615,\n        \"num_unique_values\": 81,\n        \"samples\": [\n          0.599,\n          0.462,\n          0.48\n        ],\n        \"semantic_type\": \"\",\n        \"description\": \"\"\n      }\n    },\n    {\n      \"column\": \"Budget\",\n      \"properties\": {\n        \"dtype\": \"number\",\n        \"std\": 3883.057783457557,\n        \"min\": 19781.355,\n        \"max\": 48772.9,\n        \"num_unique_values\": 436,\n        \"samples\": [\n          34546.545,\n          36768.545,\n          41218.1\n        ],\n        \"semantic_type\": \"\",\n        \"description\": \"\"\n      }\n    },\n    {\n      \"column\": \"Movie_length\",\n      \"properties\": {\n        \"dtype\": \"number\",\n        \"std\": 28.123764391040947,\n        \"min\": 76.4,\n        \"max\": 173.5,\n        \"num_unique_values\": 356,\n        \"samples\": [\n          125.3,\n          107.3,\n          143.8\n        ],\n        \"semantic_type\": \"\",\n        \"description\": \"\"\n      }\n    },\n    {\n      \"column\": \"Lead_ Actor_Rating\",\n      \"properties\": {\n        \"dtype\": \"number\",\n        \"std\": 1.0535324903517356,\n        \"min\": 3.84,\n        \"max\": 9.435,\n        \"num_unique_values\": 339,\n        \"samples\": [\n          9.01,\n          8.935,\n          8.83\n        ],\n        \"semantic_type\": \"\",\n        \"description\": \"\"\n      }\n    },\n    {\n      \"column\": \"Lead_Actress_rating\",\n      \"properties\": {\n        \"dtype\": \"number\",\n        \"std\": 1.0526853979521185,\n        \"min\": 4.035,\n        \"max\": 9.54,\n        \"num_unique_values\": 351,\n        \"samples\": [\n          7.785,\n          8.335,\n          9.31\n        ],\n        \"semantic_type\": \"\",\n        \"description\": \"\"\n      }\n    },\n    {\n      \"column\": \"Director_rating\",\n      \"properties\": {\n        \"dtype\": \"number\",\n        \"std\": 1.0593173505218894,\n        \"min\": 3.84,\n        \"max\": 9.425,\n        \"num_unique_values\": 339,\n        \"samples\": [\n          9.36,\n          8.8,\n          8.95\n        ],\n        \"semantic_type\": \"\",\n        \"description\": \"\"\n      }\n    },\n    {\n      \"column\": \"Producer_rating\",\n      \"properties\": {\n        \"dtype\": \"number\",\n        \"std\": 1.0495667582401518,\n        \"min\": 4.03,\n        \"max\": 9.635,\n        \"num_unique_values\": 353,\n        \"samples\": [\n          9.195,\n          7.19,\n          6.43\n        ],\n        \"semantic_type\": \"\",\n        \"description\": \"\"\n      }\n    },\n    {\n      \"column\": \"Critic_rating\",\n      \"properties\": {\n        \"dtype\": \"number\",\n        \"std\": 0.6585668097404221,\n        \"min\": 6.6,\n        \"max\": 9.4,\n        \"num_unique_values\": 74,\n        \"samples\": [\n          8.96,\n          8.08,\n          7.06\n        ],\n        \"semantic_type\": \"\",\n        \"description\": \"\"\n      }\n    },\n    {\n      \"column\": \"Trailer_views\",\n      \"properties\": {\n        \"dtype\": \"number\",\n        \"std\": 69038,\n        \"min\": 212912,\n        \"max\": 567784,\n        \"num_unique_values\": 504,\n        \"samples\": [\n          467457,\n          510207,\n          382738\n        ],\n        \"semantic_type\": \"\",\n        \"description\": \"\"\n      }\n    },\n    {\n      \"column\": \"3D_available\",\n      \"properties\": {\n        \"dtype\": \"category\",\n        \"num_unique_values\": 2,\n        \"samples\": [\n          \"NO\",\n          \"YES\"\n        ],\n        \"semantic_type\": \"\",\n        \"description\": \"\"\n      }\n    },\n    {\n      \"column\": \"Time_taken\",\n      \"properties\": {\n        \"dtype\": \"number\",\n        \"std\": 32.035360687391325,\n        \"min\": 0.0,\n        \"max\": 217.52,\n        \"num_unique_values\": 449,\n        \"samples\": [\n          164.84,\n          178.16\n        ],\n        \"semantic_type\": \"\",\n        \"description\": \"\"\n      }\n    },\n    {\n      \"column\": \"Twitter_hastags\",\n      \"properties\": {\n        \"dtype\": \"number\",\n        \"std\": 104.10013602456692,\n        \"min\": 201.152,\n        \"max\": 2022.4,\n        \"num_unique_values\": 423,\n        \"samples\": [\n          266.608,\n          303.536\n        ],\n        \"semantic_type\": \"\",\n        \"description\": \"\"\n      }\n    },\n    {\n      \"column\": \"Genre\",\n      \"properties\": {\n        \"dtype\": \"category\",\n        \"num_unique_values\": 4,\n        \"samples\": [\n          \"Drama\",\n          \"Action\"\n        ],\n        \"semantic_type\": \"\",\n        \"description\": \"\"\n      }\n    },\n    {\n      \"column\": \"Avg_age_actors\",\n      \"properties\": {\n        \"dtype\": \"number\",\n        \"std\": 12,\n        \"min\": 3,\n        \"max\": 60,\n        \"num_unique_values\": 42,\n        \"samples\": [\n          21,\n          46\n        ],\n        \"semantic_type\": \"\",\n        \"description\": \"\"\n      }\n    },\n    {\n      \"column\": \"Num_multiplex\",\n      \"properties\": {\n        \"dtype\": \"number\",\n        \"std\": 106,\n        \"min\": 333,\n        \"max\": 868,\n        \"num_unique_values\": 293,\n        \"samples\": [\n          555,\n          538\n        ],\n        \"semantic_type\": \"\",\n        \"description\": \"\"\n      }\n    },\n    {\n      \"column\": \"Collection\",\n      \"properties\": {\n        \"dtype\": \"number\",\n        \"std\": 18267,\n        \"min\": 10000,\n        \"max\": 100000,\n        \"num_unique_values\": 228,\n        \"samples\": [\n          28200,\n          45000\n        ],\n        \"semantic_type\": \"\",\n        \"description\": \"\"\n      }\n    },\n    {\n      \"column\": \"Tech_Oscar\",\n      \"properties\": {\n        \"dtype\": \"number\",\n        \"std\": 0,\n        \"min\": 0,\n        \"max\": 1,\n        \"num_unique_values\": 2,\n        \"samples\": [\n          0,\n          1\n        ],\n        \"semantic_type\": \"\",\n        \"description\": \"\"\n      }\n    }\n  ]\n}"
            }
          },
          "metadata": {},
          "execution_count": 174
        }
      ],
      "source": [
        "# Display the first few rows and basic info of the dataset\n",
        "df.head()"
      ]
    },
    {
      "cell_type": "code",
      "execution_count": null,
      "id": "6f435bb7",
      "metadata": {
        "colab": {
          "base_uri": "https://localhost:8080/"
        },
        "id": "6f435bb7",
        "outputId": "d5dc5446-09cf-4965-b013-8accfa406cf3"
      },
      "outputs": [
        {
          "output_type": "stream",
          "name": "stdout",
          "text": [
            "<class 'pandas.core.frame.DataFrame'>\n",
            "RangeIndex: 513 entries, 0 to 512\n",
            "Data columns (total 19 columns):\n",
            " #   Column               Non-Null Count  Dtype  \n",
            "---  ------               --------------  -----  \n",
            " 0   Marketing expense    513 non-null    float64\n",
            " 1   Production expense   513 non-null    float64\n",
            " 2   Multiplex coverage   513 non-null    float64\n",
            " 3   Budget               501 non-null    float64\n",
            " 4   Movie_length         513 non-null    float64\n",
            " 5   Lead_ Actor_Rating   513 non-null    float64\n",
            " 6   Lead_Actress_rating  508 non-null    float64\n",
            " 7   Director_rating      513 non-null    float64\n",
            " 8   Producer_rating      513 non-null    float64\n",
            " 9   Critic_rating        511 non-null    float64\n",
            " 10  Trailer_views        513 non-null    int64  \n",
            " 11  3D_available         508 non-null    object \n",
            " 12  Time_taken           501 non-null    float64\n",
            " 13  Twitter_hastags      513 non-null    float64\n",
            " 14  Genre                513 non-null    object \n",
            " 15  Avg_age_actors       513 non-null    int64  \n",
            " 16  Num_multiplex        513 non-null    int64  \n",
            " 17  Collection           513 non-null    int64  \n",
            " 18  Tech_Oscar           513 non-null    int64  \n",
            "dtypes: float64(12), int64(5), object(2)\n",
            "memory usage: 76.3+ KB\n"
          ]
        }
      ],
      "source": [
        "df.info()"
      ]
    },
    {
      "cell_type": "code",
      "execution_count": null,
      "id": "07c4bf4a",
      "metadata": {
        "colab": {
          "base_uri": "https://localhost:8080/"
        },
        "id": "07c4bf4a",
        "outputId": "5227d3d7-f99c-4628-b417-8dcabcfeed63"
      },
      "outputs": [
        {
          "output_type": "stream",
          "name": "stdout",
          "text": [
            "Missing values in each column:\n",
            "Marketing expense       0\n",
            "Production expense      0\n",
            "Multiplex coverage      0\n",
            "Budget                 12\n",
            "Movie_length            0\n",
            "Lead_ Actor_Rating      0\n",
            "Lead_Actress_rating     5\n",
            "Director_rating         0\n",
            "Producer_rating         0\n",
            "Critic_rating           2\n",
            "Trailer_views           0\n",
            "3D_available            5\n",
            "Time_taken             12\n",
            "Twitter_hastags         0\n",
            "Genre                   0\n",
            "Avg_age_actors          0\n",
            "Num_multiplex           0\n",
            "Collection              0\n",
            "Tech_Oscar              0\n",
            "dtype: int64\n",
            "\n",
            "Data types of each column:\n",
            "Marketing expense      float64\n",
            "Production expense     float64\n",
            "Multiplex coverage     float64\n",
            "Budget                 float64\n",
            "Movie_length           float64\n",
            "Lead_ Actor_Rating     float64\n",
            "Lead_Actress_rating    float64\n",
            "Director_rating        float64\n",
            "Producer_rating        float64\n",
            "Critic_rating          float64\n",
            "Trailer_views            int64\n",
            "3D_available            object\n",
            "Time_taken             float64\n",
            "Twitter_hastags        float64\n",
            "Genre                   object\n",
            "Avg_age_actors           int64\n",
            "Num_multiplex            int64\n",
            "Collection               int64\n",
            "Tech_Oscar               int64\n",
            "dtype: object\n"
          ]
        }
      ],
      "source": [
        "# Check for missing values\n",
        "missing_values = df.isnull().sum()\n",
        "\n",
        "# Display the missing values\n",
        "print(\"Missing values in each column:\")\n",
        "print(missing_values)\n",
        "\n",
        "# Display the data types\n",
        "print(\"\\nData types of each column:\")\n",
        "print(df.dtypes)"
      ]
    },
    {
      "cell_type": "code",
      "execution_count": null,
      "id": "984a5336",
      "metadata": {
        "id": "984a5336"
      },
      "outputs": [],
      "source": [
        "# Fill missing values with mean for numerical columns\n",
        "numerical_cols = ['Budget', 'Lead_Actress_rating', 'Critic_rating', 'Time_taken']\n",
        "for col in numerical_cols:\n",
        "    df[col].fillna(df[col].mean(), inplace=True)"
      ]
    },
    {
      "cell_type": "code",
      "execution_count": null,
      "id": "7362a97f",
      "metadata": {
        "id": "7362a97f"
      },
      "outputs": [],
      "source": [
        "# Fill missing values with mode for categorical column\n",
        "df['3D_available'].fillna(df['3D_available'].mode()[0], inplace=True)"
      ]
    },
    {
      "cell_type": "code",
      "execution_count": null,
      "id": "3c31b72b",
      "metadata": {
        "colab": {
          "base_uri": "https://localhost:8080/"
        },
        "id": "3c31b72b",
        "outputId": "600296cb-3c10-49f9-a970-0b734fe9ed99"
      },
      "outputs": [
        {
          "output_type": "stream",
          "name": "stdout",
          "text": [
            "Missing values in each column a:\n",
            "Marketing expense      0\n",
            "Production expense     0\n",
            "Multiplex coverage     0\n",
            "Budget                 0\n",
            "Movie_length           0\n",
            "Lead_ Actor_Rating     0\n",
            "Lead_Actress_rating    0\n",
            "Director_rating        0\n",
            "Producer_rating        0\n",
            "Critic_rating          0\n",
            "Trailer_views          0\n",
            "3D_available           0\n",
            "Time_taken             0\n",
            "Twitter_hastags        0\n",
            "Genre                  0\n",
            "Avg_age_actors         0\n",
            "Num_multiplex          0\n",
            "Collection             0\n",
            "Tech_Oscar             0\n",
            "dtype: int64\n"
          ]
        }
      ],
      "source": [
        "# Check for missing values after removal os misssing values\n",
        "missing_values = df.isnull().sum()\n",
        "# Display the missing values after removal of missing values\n",
        "print(\"Missing values in each column a:\")\n",
        "print(missing_values)\n"
      ]
    },
    {
      "cell_type": "code",
      "execution_count": null,
      "id": "f2f44701",
      "metadata": {
        "id": "f2f44701"
      },
      "outputs": [],
      "source": [
        "# One-hot encode categorical variables\n",
        "df = pd.get_dummies(df, columns=['3D_available', 'Genre'])"
      ]
    },
    {
      "cell_type": "code",
      "execution_count": null,
      "id": "ee2ca069",
      "metadata": {
        "colab": {
          "base_uri": "https://localhost:8080/"
        },
        "id": "ee2ca069",
        "outputId": "2c740e49-342a-4841-ce0a-fe14307177f4"
      },
      "outputs": [
        {
          "output_type": "stream",
          "name": "stdout",
          "text": [
            "Number of duplicates before removal: 7\n"
          ]
        }
      ],
      "source": [
        "# Check for duplicates\n",
        "num_duplicates = df.duplicated().sum()\n",
        "print(f\"Number of duplicates before removal: {num_duplicates}\")"
      ]
    },
    {
      "cell_type": "code",
      "execution_count": null,
      "id": "3c173d10",
      "metadata": {
        "id": "3c173d10"
      },
      "outputs": [],
      "source": [
        "# Remove duplicates\n",
        "df = df.drop_duplicates()"
      ]
    },
    {
      "cell_type": "code",
      "execution_count": null,
      "id": "90d5d405",
      "metadata": {
        "colab": {
          "base_uri": "https://localhost:8080/"
        },
        "id": "90d5d405",
        "outputId": "3319e751-42bf-4ca2-d7e1-d23817cbf71d"
      },
      "outputs": [
        {
          "output_type": "stream",
          "name": "stdout",
          "text": [
            "Number of duplicates after removal: 0\n"
          ]
        }
      ],
      "source": [
        "# Check and print the number of duplicates after removal\n",
        "num_duplicates = df.duplicated().sum()\n",
        "print(f\"Number of duplicates after removal: {num_duplicates}\")"
      ]
    },
    {
      "cell_type": "code",
      "execution_count": null,
      "id": "c9fe4755",
      "metadata": {
        "colab": {
          "base_uri": "https://localhost:8080/"
        },
        "id": "c9fe4755",
        "outputId": "430e27bb-1f35-4f8e-8b17-253f52b7c4ff"
      },
      "outputs": [
        {
          "output_type": "stream",
          "name": "stdout",
          "text": [
            "Number of outliers identified using IQR method: 37\n"
          ]
        }
      ],
      "source": [
        "#outliers detection\n",
        "\n",
        "# Select numerical columns\n",
        "num_cols = ['Budget', 'Lead_Actress_rating', 'Critic_rating', 'Time_taken']\n",
        "\n",
        "# Calculate the first quartile (Q1) and third quartile (Q3)\n",
        "Q1 = df[num_cols].quantile(0.25)\n",
        "Q3 = df[num_cols].quantile(0.75)\n",
        "\n",
        "# Interquartile range (IQR)\n",
        "IQR = Q3 - Q1\n",
        "\n",
        "# Define the outlier step\n",
        "outlier_step = 1.5 * IQR\n",
        "\n",
        "# Identify outliers\n",
        "outliers_iqr = ((df[num_cols] < (Q1 - outlier_step)) | (df[num_cols] > (Q3 + outlier_step))).any(axis=1)\n",
        "\n",
        "# Count the number of outliers\n",
        "num_outliers_iqr = outliers_iqr.sum()\n",
        "print(f'Number of outliers identified using IQR method: {num_outliers_iqr}')\n"
      ]
    },
    {
      "cell_type": "code",
      "execution_count": null,
      "id": "d8e5a312",
      "metadata": {
        "colab": {
          "base_uri": "https://localhost:8080/",
          "height": 807
        },
        "id": "d8e5a312",
        "outputId": "c16a51c3-7894-4851-f60a-5ed327333f38"
      },
      "outputs": [
        {
          "output_type": "display_data",
          "data": {
            "text/plain": [
              "<Figure size 1000x800 with 4 Axes>"
            ],
            "image/png": "[encoded data removed]"
          },
          "metadata": {}
        }
      ],
      "source": [
        "# Handle outliers using IQR method and plot the outliers\n",
        "plt.figure(figsize=(10, 8))\n",
        "for i, col in enumerate(numerical_cols):\n",
        "    plt.subplot(2, 2, i + 1)\n",
        "    sns.boxplot(x=df[col])\n",
        "    plt.title(f'Boxplot of {col}')\n",
        "    Q1 = df[col].quantile(0.25)\n",
        "    Q3 = df[col].quantile(0.75)\n",
        "    IQR = Q3 - Q1\n",
        "    lower_bound = Q1 - 1.5 * IQR\n",
        "    upper_bound = Q3 + 1.5 * IQR\n",
        "    df = df[(df[col] >= lower_bound) & (df[col] <= upper_bound)]\n",
        "plt.tight_layout()\n",
        "plt.show()"
      ]
    },
    {
      "cell_type": "code",
      "execution_count": null,
      "id": "7ac0ee77",
      "metadata": {
        "colab": {
          "base_uri": "https://localhost:8080/"
        },
        "id": "7ac0ee77",
        "outputId": "3c768be9-7e03-48d1-e282-d7bbe240b0d2"
      },
      "outputs": [
        {
          "output_type": "stream",
          "name": "stdout",
          "text": [
            "Number of remaining outliers after cleaning using IQR method: 0\n"
          ]
        }
      ],
      "source": [
        "# Identify outliers\n",
        "outliers = ((df[num_cols] < (Q1 - outlier_step)) | (df[num_cols] > (Q3 + outlier_step))).any(axis=1)\n",
        "\n",
        "# Remove outliers\n",
        "df_cleaned = df[~outliers]\n",
        "\n",
        "# Check for remaining outliers in the cleaned data\n",
        "Q1_cleaned = df_cleaned[num_cols].quantile(0.25)\n",
        "Q3_cleaned = df_cleaned[num_cols].quantile(0.75)\n",
        "IQR_cleaned = Q3_cleaned - Q1_cleaned\n",
        "outlier_step_cleaned = 1.5 * IQR_cleaned\n",
        "\n",
        "# Identify remaining outliers\n",
        "remaining_outliers = ((df_cleaned[num_cols] < (Q1_cleaned - outlier_step_cleaned)) | (df_cleaned[num_cols] > (Q3_cleaned + outlier_step_cleaned))).any(axis=1)\n",
        "\n",
        "# Count the number of remaining outliers\n",
        "num_remaining_outliers = remaining_outliers.sum()\n",
        "print(f'Number of remaining outliers after cleaning using IQR method: {num_remaining_outliers}')"
      ]
    },
    {
      "cell_type": "code",
      "execution_count": null,
      "id": "46191424",
      "metadata": {
        "id": "46191424"
      },
      "outputs": [],
      "source": [
        "# Separate features and target variable\n",
        "X = df.drop('Tech_Oscar', axis=1)\n",
        "y = df['Tech_Oscar']"
      ]
    },
    {
      "cell_type": "code",
      "execution_count": null,
      "id": "3d16f9f1",
      "metadata": {
        "id": "3d16f9f1"
      },
      "outputs": [],
      "source": [
        "# Standardize the features\n",
        "scaler = StandardScaler()\n",
        "X = scaler.fit_transform(X)"
      ]
    },
    {
      "cell_type": "code",
      "execution_count": null,
      "id": "2e0ff0a2",
      "metadata": {
        "id": "2e0ff0a2"
      },
      "outputs": [],
      "source": [
        "# Define the KNN model\n",
        "knn = KNeighborsClassifier(n_neighbors=5)  # n_neighbors is the k value"
      ]
    },
    {
      "cell_type": "code",
      "execution_count": null,
      "id": "f0388ba5",
      "metadata": {
        "id": "f0388ba5"
      },
      "outputs": [],
      "source": [
        "# Train and evaluate the model using cross-validation\n",
        "cv_scores = cross_val_score(knn, X, y, cv=10, scoring='accuracy')\n",
        "mean_cv_score = cv_scores.mean()"
      ]
    },
    {
      "cell_type": "code",
      "execution_count": null,
      "id": "38f877bb",
      "metadata": {
        "id": "38f877bb"
      },
      "outputs": [],
      "source": [
        "# Fit the model on the entire dataset\n",
        "knn.fit(X, y)\n",
        "y_pred = knn.predict(X)"
      ]
    },
    {
      "cell_type": "code",
      "execution_count": null,
      "id": "83571bf4",
      "metadata": {
        "id": "83571bf4"
      },
      "outputs": [],
      "source": [
        "# Evaluate the model\n",
        "classification_rep = classification_report(y, y_pred)\n",
        "accuracy = accuracy_score(y, y_pred)"
      ]
    },
    {
      "cell_type": "code",
      "execution_count": null,
      "id": "b30d7692",
      "metadata": {
        "colab": {
          "base_uri": "https://localhost:8080/",
          "height": 564
        },
        "id": "b30d7692",
        "outputId": "4fb3514f-f4ae-4098-fab5-97043b94811c"
      },
      "outputs": [
        {
          "output_type": "display_data",
          "data": {
            "text/plain": [
              "<Figure size 800x600 with 1 Axes>"
            ],
            "image/png": "[encoded data removed]"
          },
          "metadata": {}
        }
      ],
      "source": [
        "# Plotting cross-validation scores\n",
        "plt.figure(figsize=(8, 6))\n",
        "plt.plot(cv_scores, marker='o', linestyle='-', color='b')\n",
        "plt.title('Cross-Validation Scores')\n",
        "plt.xlabel('Fold')\n",
        "plt.ylabel('Accuracy')\n",
        "plt.ylim(0, 1)\n",
        "plt.grid(True)\n",
        "plt.show()"
      ]
    },
    {
      "cell_type": "code",
      "execution_count": null,
      "id": "27533965",
      "metadata": {
        "id": "27533965"
      },
      "outputs": [],
      "source": [
        "# Plotting confusion matrix\n",
        "from sklearn.metrics import ConfusionMatrixDisplay"
      ]
    },
    {
      "cell_type": "code",
      "execution_count": null,
      "id": "c6130d74",
      "metadata": {
        "colab": {
          "base_uri": "https://localhost:8080/",
          "height": 472
        },
        "id": "c6130d74",
        "outputId": "89b48452-73d6-4d33-df50-3cc51f866446"
      },
      "outputs": [
        {
          "output_type": "display_data",
          "data": {
            "text/plain": [
              "<Figure size 640x480 with 2 Axes>"
            ],
            "image/png": "[encoded data removed]"
          },
          "metadata": {}
        }
      ],
      "source": [
        "ConfusionMatrixDisplay.from_estimator(knn, X, y)\n",
        "plt.title('Confusion Matrix')\n",
        "plt.show()"
      ]
    },
    {
      "cell_type": "code",
      "execution_count": null,
      "id": "7e1770f4",
      "metadata": {
        "colab": {
          "base_uri": "https://localhost:8080/"
        },
        "id": "7e1770f4",
        "outputId": "927fb967-b65f-4a18-8694-daec0ae4e72d"
      },
      "outputs": [
        {
          "output_type": "stream",
          "name": "stdout",
          "text": [
            "Classification Report:\n",
            "              precision    recall  f1-score   support\n",
            "\n",
            "           0       0.67      0.71      0.69       224\n",
            "           1       0.72      0.67      0.70       245\n",
            "\n",
            "    accuracy                           0.69       469\n",
            "   macro avg       0.69      0.69      0.69       469\n",
            "weighted avg       0.69      0.69      0.69       469\n",
            "\n",
            "Accuracy: 0.69\n",
            "Cross-Validation Accuracy: 0.48\n"
          ]
        }
      ],
      "source": [
        "print(\"Classification Report:\")\n",
        "print(classification_rep)\n",
        "print(f\"Accuracy: {accuracy:.2f}\")\n",
        "print(f\"Cross-Validation Accuracy: {mean_cv_score:.2f}\")"
      ]
    },
    {
      "cell_type": "code",
      "execution_count": null,
      "id": "fe65afda",
      "metadata": {
        "id": "fe65afda"
      },
      "outputs": [],
      "source": []
    },
    {
      "cell_type": "markdown",
      "id": "12d4099c",
      "metadata": {
        "id": "12d4099c"
      },
      "source": [
        "# WITH EXTENDED DATASET"
      ]
    },
    {
      "cell_type": "code",
      "execution_count": null,
      "id": "fa97dc92",
      "metadata": {
        "id": "fa97dc92"
      },
      "outputs": [],
      "source": [
        "#Import the libraries:\n",
        "import pandas as pd\n",
        "import numpy as np\n",
        "import matplotlib.pyplot as plt\n",
        "import seaborn as sns\n",
        "from sklearn.model_selection import train_test_split, cross_val_score\n",
        "from sklearn.preprocessing import StandardScaler\n",
        "from sklearn.neighbors import KNeighborsClassifier\n",
        "from sklearn.metrics import classification_report, accuracy_score"
      ]
    },
    {
      "cell_type": "code",
      "execution_count": null,
      "id": "0fef8759",
      "metadata": {
        "id": "0fef8759"
      },
      "outputs": [],
      "source": [
        "# Load the dataset\n",
        "file_path = 'extended_data.csv'\n",
        "df = pd.read_csv(file_path)"
      ]
    },
    {
      "cell_type": "code",
      "execution_count": null,
      "id": "4a644a93",
      "metadata": {
        "colab": {
          "base_uri": "https://localhost:8080/",
          "height": 243
        },
        "id": "4a644a93",
        "outputId": "a89c8f47-3d8a-4a93-b853-878375be0fe5"
      },
      "outputs": [
        {
          "output_type": "execute_result",
          "data": {
            "text/plain": [
              "   Marketing expense  Production expense  Multiplex coverage     Budget  \\\n",
              "0            20.1264               59.62               0.462  36524.125   \n",
              "1            20.5462               69.14               0.531  35668.655   \n",
              "2            20.5458               69.14               0.531  39912.675   \n",
              "3            20.6474               59.36               0.542  38873.890   \n",
              "4            21.3810               59.36               0.542  39701.585   \n",
              "\n",
              "   Movie_length  Lead_ Actor_Rating  Lead_Actress_rating  Director_rating  \\\n",
              "0         138.7               7.825                8.095            7.910   \n",
              "1         152.4               7.505                7.650            7.440   \n",
              "2         134.6               7.485                7.570            7.495   \n",
              "3         119.3               6.895                7.035            6.920   \n",
              "4         127.7               6.920                7.070            6.815   \n",
              "\n",
              "   Producer_rating  Critic_rating  Trailer_views 3D_available  Time_taken  \\\n",
              "0            7.995           7.94       527367.0          YES      109.60   \n",
              "1            7.470           7.44       494055.0           NO      146.64   \n",
              "2            7.515           7.44       547051.0           NO      147.88   \n",
              "3            7.020           8.26       516279.0          YES      185.36   \n",
              "4            7.070           8.26       531448.0           NO      176.48   \n",
              "\n",
              "   Twitter_hastags     Genre  Avg_age_actors  Num_multiplex  Collection  \\\n",
              "0          223.840  Thriller            23.0          494.0     48000.0   \n",
              "1          243.456     Drama            42.0          462.0     43200.0   \n",
              "2         2022.400    Comedy            38.0          458.0     69400.0   \n",
              "3          225.344     Drama            45.0          472.0     66800.0   \n",
              "4          225.792     Drama            55.0          395.0     72400.0   \n",
              "\n",
              "   Tech_Oscar  \n",
              "0           1  \n",
              "1           0  \n",
              "2           1  \n",
              "3           1  \n",
              "4           1  "
            ],
            "text/html": [
              "\n",
              "  <div id=\"df-1945da8b-430b-4be6-8fea-ae82f9138371\" class=\"colab-df-container\">\n",
              "    <div>\n",
              "<style scoped>\n",
              "    .dataframe tbody tr th:only-of-type {\n",
              "        vertical-align: middle;\n",
              "    }\n",
              "\n",
              "    .dataframe tbody tr th {\n",
              "        vertical-align: top;\n",
              "    }\n",
              "\n",
              "    .dataframe thead th {\n",
              "        text-align: right;\n",
              "    }\n",
              "</style>\n",
              "<table border=\"1\" class=\"dataframe\">\n",
              "  <thead>\n",
              "    <tr style=\"text-align: right;\">\n",
              "      <th></th>\n",
              "      <th>Marketing expense</th>\n",
              "      <th>Production expense</th>\n",
              "      <th>Multiplex coverage</th>\n",
              "      <th>Budget</th>\n",
              "      <th>Movie_length</th>\n",
              "      <th>Lead_ Actor_Rating</th>\n",
              "      <th>Lead_Actress_rating</th>\n",
              "      <th>Director_rating</th>\n",
              "      <th>Producer_rating</th>\n",
              "      <th>Critic_rating</th>\n",
              "      <th>Trailer_views</th>\n",
              "      <th>3D_available</th>\n",
              "      <th>Time_taken</th>\n",
              "      <th>Twitter_hastags</th>\n",
              "      <th>Genre</th>\n",
              "      <th>Avg_age_actors</th>\n",
              "      <th>Num_multiplex</th>\n",
              "      <th>Collection</th>\n",
              "      <th>Tech_Oscar</th>\n",
              "    </tr>\n",
              "  </thead>\n",
              "  <tbody>\n",
              "    <tr>\n",
              "      <th>0</th>\n",
              "      <td>20.1264</td>\n",
              "      <td>59.62</td>\n",
              "      <td>0.462</td>\n",
              "      <td>36524.125</td>\n",
              "      <td>138.7</td>\n",
              "      <td>7.825</td>\n",
              "      <td>8.095</td>\n",
              "      <td>7.910</td>\n",
              "      <td>7.995</td>\n",
              "      <td>7.94</td>\n",
              "      <td>527367.0</td>\n",
              "      <td>YES</td>\n",
              "      <td>109.60</td>\n",
              "      <td>223.840</td>\n",
              "      <td>Thriller</td>\n",
              "      <td>23.0</td>\n",
              "      <td>494.0</td>\n",
              "      <td>48000.0</td>\n",
              "      <td>1</td>\n",
              "    </tr>\n",
              "    <tr>\n",
              "      <th>1</th>\n",
              "      <td>20.5462</td>\n",
              "      <td>69.14</td>\n",
              "      <td>0.531</td>\n",
              "      <td>35668.655</td>\n",
              "      <td>152.4</td>\n",
              "      <td>7.505</td>\n",
              "      <td>7.650</td>\n",
              "      <td>7.440</td>\n",
              "      <td>7.470</td>\n",
              "      <td>7.44</td>\n",
              "      <td>494055.0</td>\n",
              "      <td>NO</td>\n",
              "      <td>146.64</td>\n",
              "      <td>243.456</td>\n",
              "      <td>Drama</td>\n",
              "      <td>42.0</td>\n",
              "      <td>462.0</td>\n",
              "      <td>43200.0</td>\n",
              "      <td>0</td>\n",
              "    </tr>\n",
              "    <tr>\n",
              "      <th>2</th>\n",
              "      <td>20.5458</td>\n",
              "      <td>69.14</td>\n",
              "      <td>0.531</td>\n",
              "      <td>39912.675</td>\n",
              "      <td>134.6</td>\n",
              "      <td>7.485</td>\n",
              "      <td>7.570</td>\n",
              "      <td>7.495</td>\n",
              "      <td>7.515</td>\n",
              "      <td>7.44</td>\n",
              "      <td>547051.0</td>\n",
              "      <td>NO</td>\n",
              "      <td>147.88</td>\n",
              "      <td>2022.400</td>\n",
              "      <td>Comedy</td>\n",
              "      <td>38.0</td>\n",
              "      <td>458.0</td>\n",
              "      <td>69400.0</td>\n",
              "      <td>1</td>\n",
              "    </tr>\n",
              "    <tr>\n",
              "      <th>3</th>\n",
              "      <td>20.6474</td>\n",
              "      <td>59.36</td>\n",
              "      <td>0.542</td>\n",
              "      <td>38873.890</td>\n",
              "      <td>119.3</td>\n",
              "      <td>6.895</td>\n",
              "      <td>7.035</td>\n",
              "      <td>6.920</td>\n",
              "      <td>7.020</td>\n",
              "      <td>8.26</td>\n",
              "      <td>516279.0</td>\n",
              "      <td>YES</td>\n",
              "      <td>185.36</td>\n",
              "      <td>225.344</td>\n",
              "      <td>Drama</td>\n",
              "      <td>45.0</td>\n",
              "      <td>472.0</td>\n",
              "      <td>66800.0</td>\n",
              "      <td>1</td>\n",
              "    </tr>\n",
              "    <tr>\n",
              "      <th>4</th>\n",
              "      <td>21.3810</td>\n",
              "      <td>59.36</td>\n",
              "      <td>0.542</td>\n",
              "      <td>39701.585</td>\n",
              "      <td>127.7</td>\n",
              "      <td>6.920</td>\n",
              "      <td>7.070</td>\n",
              "      <td>6.815</td>\n",
              "      <td>7.070</td>\n",
              "      <td>8.26</td>\n",
              "      <td>531448.0</td>\n",
              "      <td>NO</td>\n",
              "      <td>176.48</td>\n",
              "      <td>225.792</td>\n",
              "      <td>Drama</td>\n",
              "      <td>55.0</td>\n",
              "      <td>395.0</td>\n",
              "      <td>72400.0</td>\n",
              "      <td>1</td>\n",
              "    </tr>\n",
              "  </tbody>\n",
              "</table>\n",
              "</div>\n",
              "    <div class=\"colab-df-buttons\">\n",
              "\n",
              "  <div class=\"colab-df-container\">\n",
              "    <button class=\"colab-df-convert\" onclick=\"convertToInteractive('df-1945da8b-430b-4be6-8fea-ae82f9138371')\"\n",
              "            title=\"Convert this dataframe to an interactive table.\"\n",
              "            style=\"display:none;\">\n",
              "\n",
              "  <svg xmlns=\"http://www.w3.org/2000/svg\" height=\"24px\" viewBox=\"0 -960 960 960\">\n",
              "    <path d=\"M120-120v-720h720v720H120Zm60-500h600v-160H180v160Zm220 220h160v-160H400v160Zm0 220h160v-160H400v160ZM180-400h160v-160H180v160Zm440 0h160v-160H620v160ZM180-180h160v-160H180v160Zm440 0h160v-160H620v160Z\"/>\n",
              "  </svg>\n",
              "    </button>\n",
              "\n",
              "  <style>\n",
              "    .colab-df-container {\n",
              "      display:flex;\n",
              "      gap: 12px;\n",
              "    }\n",
              "\n",
              "    .colab-df-convert {\n",
              "      background-color: #E8F0FE;\n",
              "      border: none;\n",
              "      border-radius: 50%;\n",
              "      cursor: pointer;\n",
              "      display: none;\n",
              "      fill: #1967D2;\n",
              "      height: 32px;\n",
              "      padding: 0 0 0 0;\n",
              "      width: 32px;\n",
              "    }\n",
              "\n",
              "    .colab-df-convert:hover {\n",
              "      background-color: #E2EBFA;\n",
              "      box-shadow: 0px 1px 2px rgba(60, 64, 67, 0.3), 0px 1px 3px 1px rgba(60, 64, 67, 0.15);\n",
              "      fill: #174EA6;\n",
              "    }\n",
              "\n",
              "    .colab-df-buttons div {\n",
              "      margin-bottom: 4px;\n",
              "    }\n",
              "\n",
              "    [theme=dark] .colab-df-convert {\n",
              "      background-color: #3B4455;\n",
              "      fill: #D2E3FC;\n",
              "    }\n",
              "\n",
              "    [theme=dark] .colab-df-convert:hover {\n",
              "      background-color: #434B5C;\n",
              "      box-shadow: 0px 1px 3px 1px rgba(0, 0, 0, 0.15);\n",
              "      filter: drop-shadow(0px 1px 2px rgba(0, 0, 0, 0.3));\n",
              "      fill: #FFFFFF;\n",
              "    }\n",
              "  </style>\n",
              "\n",
              "    <script>\n",
              "      const buttonEl =\n",
              "        document.querySelector('#df-1945da8b-430b-4be6-8fea-ae82f9138371 button.colab-df-convert');\n",
              "      buttonEl.style.display =\n",
              "        google.colab.kernel.accessAllowed ? 'block' : 'none';\n",
              "\n",
              "      async function convertToInteractive(key) {\n",
              "        const element = document.querySelector('#df-1945da8b-430b-4be6-8fea-ae82f9138371');\n",
              "        const dataTable =\n",
              "          await google.colab.kernel.invokeFunction('convertToInteractive',\n",
              "                                                    [key], {});\n",
              "        if (!dataTable) return;\n",
              "\n",
              "        const docLinkHtml = 'Like what you see? Visit the ' +\n",
              "          '<a target=\"_blank\" href=https://colab.research.google.com/notebooks/data_table.ipynb>data table notebook</a>'\n",
              "          + ' to learn more about interactive tables.';\n",
              "        element.innerHTML = '';\n",
              "        dataTable['output_type'] = 'display_data';\n",
              "        await google.colab.output.renderOutput(dataTable, element);\n",
              "        const docLink = document.createElement('div');\n",
              "        docLink.innerHTML = docLinkHtml;\n",
              "        element.appendChild(docLink);\n",
              "      }\n",
              "    </script>\n",
              "  </div>\n",
              "\n",
              "\n",
              "<div id=\"df-c8f88013-b8fd-4e19-8d60-02347cb50b20\">\n",
              "  <button class=\"colab-df-quickchart\" onclick=\"quickchart('df-c8f88013-b8fd-4e19-8d60-02347cb50b20')\"\n",
              "            title=\"Suggest charts\"\n",
              "            style=\"display:none;\">\n",
              "\n",
              "<svg xmlns=\"http://www.w3.org/2000/svg\" height=\"24px\"viewBox=\"0 0 24 24\"\n",
              "     width=\"24px\">\n",
              "    <g>\n",
              "        <path d=\"M19 3H5c-1.1 0-2 .9-2 2v14c0 1.1.9 2 2 2h14c1.1 0 2-.9 2-2V5c0-1.1-.9-2-2-2zM9 17H7v-7h2v7zm4 0h-2V7h2v10zm4 0h-2v-4h2v4z\"/>\n",
              "    </g>\n",
              "</svg>\n",
              "  </button>\n",
              "\n",
              "<style>\n",
              "  .colab-df-quickchart {\n",
              "      --bg-color: #E8F0FE;\n",
              "      --fill-color: #1967D2;\n",
              "      --hover-bg-color: #E2EBFA;\n",
              "      --hover-fill-color: #174EA6;\n",
              "      --disabled-fill-color: #AAA;\n",
              "      --disabled-bg-color: #DDD;\n",
              "  }\n",
              "\n",
              "  [theme=dark] .colab-df-quickchart {\n",
              "      --bg-color: #3B4455;\n",
              "      --fill-color: #D2E3FC;\n",
              "      --hover-bg-color: #434B5C;\n",
              "      --hover-fill-color: #FFFFFF;\n",
              "      --disabled-bg-color: #3B4455;\n",
              "      --disabled-fill-color: #666;\n",
              "  }\n",
              "\n",
              "  .colab-df-quickchart {\n",
              "    background-color: var(--bg-color);\n",
              "    border: none;\n",
              "    border-radius: 50%;\n",
              "    cursor: pointer;\n",
              "    display: none;\n",
              "    fill: var(--fill-color);\n",
              "    height: 32px;\n",
              "    padding: 0;\n",
              "    width: 32px;\n",
              "  }\n",
              "\n",
              "  .colab-df-quickchart:hover {\n",
              "    background-color: var(--hover-bg-color);\n",
              "    box-shadow: 0 1px 2px rgba(60, 64, 67, 0.3), 0 1px 3px 1px rgba(60, 64, 67, 0.15);\n",
              "    fill: var(--button-hover-fill-color);\n",
              "  }\n",
              "\n",
              "  .colab-df-quickchart-complete:disabled,\n",
              "  .colab-df-quickchart-complete:disabled:hover {\n",
              "    background-color: var(--disabled-bg-color);\n",
              "    fill: var(--disabled-fill-color);\n",
              "    box-shadow: none;\n",
              "  }\n",
              "\n",
              "  .colab-df-spinner {\n",
              "    border: 2px solid var(--fill-color);\n",
              "    border-color: transparent;\n",
              "    border-bottom-color: var(--fill-color);\n",
              "    animation:\n",
              "      spin 1s steps(1) infinite;\n",
              "  }\n",
              "\n",
              "  @keyframes spin {\n",
              "    0% {\n",
              "      border-color: transparent;\n",
              "      border-bottom-color: var(--fill-color);\n",
              "      border-left-color: var(--fill-color);\n",
              "    }\n",
              "    20% {\n",
              "      border-color: transparent;\n",
              "      border-left-color: var(--fill-color);\n",
              "      border-top-color: var(--fill-color);\n",
              "    }\n",
              "    30% {\n",
              "      border-color: transparent;\n",
              "      border-left-color: var(--fill-color);\n",
              "      border-top-color: var(--fill-color);\n",
              "      border-right-color: var(--fill-color);\n",
              "    }\n",
              "    40% {\n",
              "      border-color: transparent;\n",
              "      border-right-color: var(--fill-color);\n",
              "      border-top-color: var(--fill-color);\n",
              "    }\n",
              "    60% {\n",
              "      border-color: transparent;\n",
              "      border-right-color: var(--fill-color);\n",
              "    }\n",
              "    80% {\n",
              "      border-color: transparent;\n",
              "      border-right-color: var(--fill-color);\n",
              "      border-bottom-color: var(--fill-color);\n",
              "    }\n",
              "    90% {\n",
              "      border-color: transparent;\n",
              "      border-bottom-color: var(--fill-color);\n",
              "    }\n",
              "  }\n",
              "</style>\n",
              "\n",
              "  <script>\n",
              "    async function quickchart(key) {\n",
              "      const quickchartButtonEl =\n",
              "        document.querySelector('#' + key + ' button');\n",
              "      quickchartButtonEl.disabled = true;  // To prevent multiple clicks.\n",
              "      quickchartButtonEl.classList.add('colab-df-spinner');\n",
              "      try {\n",
              "        const charts = await google.colab.kernel.invokeFunction(\n",
              "            'suggestCharts', [key], {});\n",
              "      } catch (error) {\n",
              "        console.error('Error during call to suggestCharts:', error);\n",
              "      }\n",
              "      quickchartButtonEl.classList.remove('colab-df-spinner');\n",
              "      quickchartButtonEl.classList.add('colab-df-quickchart-complete');\n",
              "    }\n",
              "    (() => {\n",
              "      let quickchartButtonEl =\n",
              "        document.querySelector('#df-c8f88013-b8fd-4e19-8d60-02347cb50b20 button');\n",
              "      quickchartButtonEl.style.display =\n",
              "        google.colab.kernel.accessAllowed ? 'block' : 'none';\n",
              "    })();\n",
              "  </script>\n",
              "</div>\n",
              "\n",
              "    </div>\n",
              "  </div>\n"
            ],
            "application/vnd.google.colaboratory.intrinsic+json": {
              "type": "dataframe",
              "variable_name": "df",
              "summary": "{\n  \"name\": \"df\",\n  \"rows\": 613,\n  \"fields\": [\n    {\n      \"column\": \"Marketing expense\",\n      \"properties\": {\n        \"dtype\": \"number\",\n        \"std\": 158.70347046133003,\n        \"min\": 10.110442342472048,\n        \"max\": 1799.524,\n        \"num_unique_values\": 604,\n        \"samples\": [\n          22.1586,\n          184.9618,\n          15.618690193747614\n        ],\n        \"semantic_type\": \"\",\n        \"description\": \"\"\n      }\n    },\n    {\n      \"column\": \"Production expense\",\n      \"properties\": {\n        \"dtype\": \"number\",\n        \"std\": 13.753233955314546,\n        \"min\": 50.20856391593572,\n        \"max\": 110.48,\n        \"num_unique_values\": 176,\n        \"samples\": [\n          64.72,\n          62.94,\n          66.07324052224276\n        ],\n        \"semantic_type\": \"\",\n        \"description\": \"\"\n      }\n    },\n    {\n      \"column\": \"Multiplex coverage\",\n      \"properties\": {\n        \"dtype\": \"number\",\n        \"std\": 0.1116916983469518,\n        \"min\": 0.129,\n        \"max\": 0.615,\n        \"num_unique_values\": 181,\n        \"samples\": [\n          0.511,\n          0.553,\n          0.5601216955740311\n        ],\n        \"semantic_type\": \"\",\n        \"description\": \"\"\n      }\n    },\n    {\n      \"column\": \"Budget\",\n      \"properties\": {\n        \"dtype\": \"number\",\n        \"std\": 6236.527599040724,\n        \"min\": 19781.355,\n        \"max\": 59715.154260020194,\n        \"num_unique_values\": 536,\n        \"samples\": [\n          35724.205,\n          30374.74,\n          44045.595\n        ],\n        \"semantic_type\": \"\",\n        \"description\": \"\"\n      }\n    },\n    {\n      \"column\": \"Movie_length\",\n      \"properties\": {\n        \"dtype\": \"number\",\n        \"std\": 28.26297538398772,\n        \"min\": 76.4,\n        \"max\": 179.36683165073703,\n        \"num_unique_values\": 456,\n        \"samples\": [\n          119.57980908329245,\n          80.1,\n          115.4\n        ],\n        \"semantic_type\": \"\",\n        \"description\": \"\"\n      }\n    },\n    {\n      \"column\": \"Lead_ Actor_Rating\",\n      \"properties\": {\n        \"dtype\": \"number\",\n        \"std\": 1.0400920185558764,\n        \"min\": 3.84,\n        \"max\": 9.435,\n        \"num_unique_values\": 439,\n        \"samples\": [\n          7.47,\n          7.69,\n          8.849399739875771\n        ],\n        \"semantic_type\": \"\",\n        \"description\": \"\"\n      }\n    },\n    {\n      \"column\": \"Lead_Actress_rating\",\n      \"properties\": {\n        \"dtype\": \"number\",\n        \"std\": 1.0671240310156516,\n        \"min\": 4.035,\n        \"max\": 9.54,\n        \"num_unique_values\": 451,\n        \"samples\": [\n          9.54,\n          7.18,\n          8.55\n        ],\n        \"semantic_type\": \"\",\n        \"description\": \"\"\n      }\n    },\n    {\n      \"column\": \"Director_rating\",\n      \"properties\": {\n        \"dtype\": \"number\",\n        \"std\": 1.0396200828033977,\n        \"min\": 3.84,\n        \"max\": 9.425,\n        \"num_unique_values\": 439,\n        \"samples\": [\n          5.71,\n          8.135,\n          6.763921964291292\n        ],\n        \"semantic_type\": \"\",\n        \"description\": \"\"\n      }\n    },\n    {\n      \"column\": \"Producer_rating\",\n      \"properties\": {\n        \"dtype\": \"number\",\n        \"std\": 1.0660084242332535,\n        \"min\": 4.03,\n        \"max\": 9.635,\n        \"num_unique_values\": 453,\n        \"samples\": [\n          9.01,\n          7.475,\n          7.352518114212396\n        ],\n        \"semantic_type\": \"\",\n        \"description\": \"\"\n      }\n    },\n    {\n      \"column\": \"Critic_rating\",\n      \"properties\": {\n        \"dtype\": \"number\",\n        \"std\": 0.7054489807882975,\n        \"min\": 6.0329874859754415,\n        \"max\": 9.4,\n        \"num_unique_values\": 174,\n        \"samples\": [\n          8.312736611237465,\n          7.991013496087945,\n          7.624902643982601\n        ],\n        \"semantic_type\": \"\",\n        \"description\": \"\"\n      }\n    },\n    {\n      \"column\": \"Trailer_views\",\n      \"properties\": {\n        \"dtype\": \"number\",\n        \"std\": 136958.45732155375,\n        \"min\": 116086.54126007242,\n        \"max\": 998140.6994800036,\n        \"num_unique_values\": 604,\n        \"samples\": [\n          423752.0,\n          407077.0,\n          479221.3020493632\n        ],\n        \"semantic_type\": \"\",\n        \"description\": \"\"\n      }\n    },\n    {\n      \"column\": \"3D_available\",\n      \"properties\": {\n        \"dtype\": \"category\",\n        \"num_unique_values\": 2,\n        \"samples\": [\n          \"NO\",\n          \"YES\"\n        ],\n        \"semantic_type\": \"\",\n        \"description\": \"\"\n      }\n    },\n    {\n      \"column\": \"Time_taken\",\n      \"properties\": {\n        \"dtype\": \"number\",\n        \"std\": 31.770656681079785,\n        \"min\": 0.0,\n        \"max\": 217.52,\n        \"num_unique_values\": 549,\n        \"samples\": [\n          137.76,\n          119.0\n        ],\n        \"semantic_type\": \"\",\n        \"description\": \"\"\n      }\n    },\n    {\n      \"column\": \"Twitter_hastags\",\n      \"properties\": {\n        \"dtype\": \"number\",\n        \"std\": 562.6621042537461,\n        \"min\": 128.3354575156326,\n        \"max\": 2989.3683565645515,\n        \"num_unique_values\": 523,\n        \"samples\": [\n          2964.1837348345675,\n          222.432\n        ],\n        \"semantic_type\": \"\",\n        \"description\": \"\"\n      }\n    },\n    {\n      \"column\": \"Genre\",\n      \"properties\": {\n        \"dtype\": \"category\",\n        \"num_unique_values\": 4,\n        \"samples\": [\n          \"Drama\",\n          \"Action\"\n        ],\n        \"semantic_type\": \"\",\n        \"description\": \"\"\n      }\n    },\n    {\n      \"column\": \"Avg_age_actors\",\n      \"properties\": {\n        \"dtype\": \"number\",\n        \"std\": 12.330453206111647,\n        \"min\": 3.0,\n        \"max\": 60.0,\n        \"num_unique_values\": 142,\n        \"samples\": [\n          29.84278635191993,\n          20.0\n        ],\n        \"semantic_type\": \"\",\n        \"description\": \"\"\n      }\n    },\n    {\n      \"column\": \"Num_multiplex\",\n      \"properties\": {\n        \"dtype\": \"number\",\n        \"std\": 108.4986227040508,\n        \"min\": 300.7752044534947,\n        \"max\": 868.0,\n        \"num_unique_values\": 393,\n        \"samples\": [\n          492.0,\n          630.0\n        ],\n        \"semantic_type\": \"\",\n        \"description\": \"\"\n      }\n    },\n    {\n      \"column\": \"Collection\",\n      \"properties\": {\n        \"dtype\": \"number\",\n        \"std\": 18154.15545839438,\n        \"min\": 10000.0,\n        \"max\": 100000.0,\n        \"num_unique_values\": 328,\n        \"samples\": [\n          40014.17296833203,\n          38200.0\n        ],\n        \"semantic_type\": \"\",\n        \"description\": \"\"\n      }\n    },\n    {\n      \"column\": \"Tech_Oscar\",\n      \"properties\": {\n        \"dtype\": \"number\",\n        \"std\": 0,\n        \"min\": 0,\n        \"max\": 1,\n        \"num_unique_values\": 2,\n        \"samples\": [\n          0,\n          1\n        ],\n        \"semantic_type\": \"\",\n        \"description\": \"\"\n      }\n    }\n  ]\n}"
            }
          },
          "metadata": {},
          "execution_count": 199
        }
      ],
      "source": [
        "# Display the first few rows and basic info of the dataset\n",
        "df.head()"
      ]
    },
    {
      "cell_type": "code",
      "execution_count": null,
      "id": "736ec844",
      "metadata": {
        "colab": {
          "base_uri": "https://localhost:8080/"
        },
        "id": "736ec844",
        "outputId": "03402283-2544-45bf-d1ed-05b3ddb46d59"
      },
      "outputs": [
        {
          "output_type": "stream",
          "name": "stdout",
          "text": [
            "<class 'pandas.core.frame.DataFrame'>\n",
            "RangeIndex: 613 entries, 0 to 612\n",
            "Data columns (total 19 columns):\n",
            " #   Column               Non-Null Count  Dtype  \n",
            "---  ------               --------------  -----  \n",
            " 0   Marketing expense    613 non-null    float64\n",
            " 1   Production expense   613 non-null    float64\n",
            " 2   Multiplex coverage   613 non-null    float64\n",
            " 3   Budget               601 non-null    float64\n",
            " 4   Movie_length         613 non-null    float64\n",
            " 5   Lead_ Actor_Rating   613 non-null    float64\n",
            " 6   Lead_Actress_rating  608 non-null    float64\n",
            " 7   Director_rating      613 non-null    float64\n",
            " 8   Producer_rating      613 non-null    float64\n",
            " 9   Critic_rating        611 non-null    float64\n",
            " 10  Trailer_views        613 non-null    float64\n",
            " 11  3D_available         608 non-null    object \n",
            " 12  Time_taken           601 non-null    float64\n",
            " 13  Twitter_hastags      613 non-null    float64\n",
            " 14  Genre                613 non-null    object \n",
            " 15  Avg_age_actors       613 non-null    float64\n",
            " 16  Num_multiplex        613 non-null    float64\n",
            " 17  Collection           613 non-null    float64\n",
            " 18  Tech_Oscar           613 non-null    int64  \n",
            "dtypes: float64(16), int64(1), object(2)\n",
            "memory usage: 91.1+ KB\n"
          ]
        }
      ],
      "source": [
        "df.info()"
      ]
    },
    {
      "cell_type": "code",
      "execution_count": null,
      "id": "07890a75",
      "metadata": {
        "colab": {
          "base_uri": "https://localhost:8080/"
        },
        "id": "07890a75",
        "outputId": "52b9e6d9-c19d-4b55-e10e-96fd0194261f"
      },
      "outputs": [
        {
          "output_type": "stream",
          "name": "stdout",
          "text": [
            "Missing values in each column:\n",
            "Marketing expense       0\n",
            "Production expense      0\n",
            "Multiplex coverage      0\n",
            "Budget                 12\n",
            "Movie_length            0\n",
            "Lead_ Actor_Rating      0\n",
            "Lead_Actress_rating     5\n",
            "Director_rating         0\n",
            "Producer_rating         0\n",
            "Critic_rating           2\n",
            "Trailer_views           0\n",
            "3D_available            5\n",
            "Time_taken             12\n",
            "Twitter_hastags         0\n",
            "Genre                   0\n",
            "Avg_age_actors          0\n",
            "Num_multiplex           0\n",
            "Collection              0\n",
            "Tech_Oscar              0\n",
            "dtype: int64\n",
            "\n",
            "Data types of each column:\n",
            "Marketing expense      float64\n",
            "Production expense     float64\n",
            "Multiplex coverage     float64\n",
            "Budget                 float64\n",
            "Movie_length           float64\n",
            "Lead_ Actor_Rating     float64\n",
            "Lead_Actress_rating    float64\n",
            "Director_rating        float64\n",
            "Producer_rating        float64\n",
            "Critic_rating          float64\n",
            "Trailer_views          float64\n",
            "3D_available            object\n",
            "Time_taken             float64\n",
            "Twitter_hastags        float64\n",
            "Genre                   object\n",
            "Avg_age_actors         float64\n",
            "Num_multiplex          float64\n",
            "Collection             float64\n",
            "Tech_Oscar               int64\n",
            "dtype: object\n"
          ]
        }
      ],
      "source": [
        "# Check for missing values\n",
        "missing_values = df.isnull().sum()\n",
        "\n",
        "# Display the missing values\n",
        "print(\"Missing values in each column:\")\n",
        "print(missing_values)\n",
        "\n",
        "# Display the data types\n",
        "print(\"\\nData types of each column:\")\n",
        "print(df.dtypes)"
      ]
    },
    {
      "cell_type": "code",
      "execution_count": null,
      "id": "b43d4d05",
      "metadata": {
        "id": "b43d4d05"
      },
      "outputs": [],
      "source": [
        "# Fill missing values with mean for numerical columns\n",
        "numerical_cols = ['Budget', 'Lead_Actress_rating', 'Critic_rating', 'Time_taken']\n",
        "for col in numerical_cols:\n",
        "    df[col].fillna(df[col].mean(), inplace=True)"
      ]
    },
    {
      "cell_type": "code",
      "execution_count": null,
      "id": "1757a78a",
      "metadata": {
        "id": "1757a78a"
      },
      "outputs": [],
      "source": [
        "# Fill missing values with mode for categorical column\n",
        "df['3D_available'].fillna(df['3D_available'].mode()[0], inplace=True)"
      ]
    },
    {
      "cell_type": "code",
      "execution_count": null,
      "id": "d0b9a8b3",
      "metadata": {
        "colab": {
          "base_uri": "https://localhost:8080/"
        },
        "id": "d0b9a8b3",
        "outputId": "48dee1a2-b41c-4c57-e2a5-f6ff8c20a66e"
      },
      "outputs": [
        {
          "output_type": "stream",
          "name": "stdout",
          "text": [
            "Missing values in each column a:\n",
            "Marketing expense      0\n",
            "Production expense     0\n",
            "Multiplex coverage     0\n",
            "Budget                 0\n",
            "Movie_length           0\n",
            "Lead_ Actor_Rating     0\n",
            "Lead_Actress_rating    0\n",
            "Director_rating        0\n",
            "Producer_rating        0\n",
            "Critic_rating          0\n",
            "Trailer_views          0\n",
            "3D_available           0\n",
            "Time_taken             0\n",
            "Twitter_hastags        0\n",
            "Genre                  0\n",
            "Avg_age_actors         0\n",
            "Num_multiplex          0\n",
            "Collection             0\n",
            "Tech_Oscar             0\n",
            "dtype: int64\n"
          ]
        }
      ],
      "source": [
        "# Check for missing values after removal os misssing values\n",
        "missing_values = df.isnull().sum()\n",
        "# Display the missing values after removal of missing values\n",
        "print(\"Missing values in each column a:\")\n",
        "print(missing_values)\n"
      ]
    },
    {
      "cell_type": "code",
      "execution_count": null,
      "id": "97666da2",
      "metadata": {
        "id": "97666da2"
      },
      "outputs": [],
      "source": [
        "# One-hot encode categorical variables\n",
        "df = pd.get_dummies(df, columns=['3D_available', 'Genre'])"
      ]
    },
    {
      "cell_type": "code",
      "execution_count": null,
      "id": "70784935",
      "metadata": {
        "colab": {
          "base_uri": "https://localhost:8080/"
        },
        "id": "70784935",
        "outputId": "a84caae1-1a14-405a-f93e-448d0a7ad243"
      },
      "outputs": [
        {
          "output_type": "stream",
          "name": "stdout",
          "text": [
            "Number of duplicates before removal: 7\n"
          ]
        }
      ],
      "source": [
        "# Check for duplicates\n",
        "num_duplicates = df.duplicated().sum()\n",
        "print(f\"Number of duplicates before removal: {num_duplicates}\")"
      ]
    },
    {
      "cell_type": "code",
      "execution_count": null,
      "id": "9534eac9",
      "metadata": {
        "id": "9534eac9"
      },
      "outputs": [],
      "source": [
        "# Remove duplicates\n",
        "df = df.drop_duplicates()"
      ]
    },
    {
      "cell_type": "code",
      "execution_count": null,
      "id": "efbc2f0c",
      "metadata": {
        "colab": {
          "base_uri": "https://localhost:8080/"
        },
        "id": "efbc2f0c",
        "outputId": "b4f1791a-9f2a-4aa5-86ac-3fae0c7e8a16"
      },
      "outputs": [
        {
          "output_type": "stream",
          "name": "stdout",
          "text": [
            "Number of duplicates after removal: 0\n"
          ]
        }
      ],
      "source": [
        "# Check and print the number of duplicates after removal\n",
        "num_duplicates = df.duplicated().sum()\n",
        "print(f\"Number of duplicates after removal: {num_duplicates}\")"
      ]
    },
    {
      "cell_type": "code",
      "execution_count": null,
      "id": "5dcd7fa8",
      "metadata": {
        "colab": {
          "base_uri": "https://localhost:8080/"
        },
        "id": "5dcd7fa8",
        "outputId": "58a67e13-0eeb-4e47-aa24-a6ac1e3d43d3"
      },
      "outputs": [
        {
          "output_type": "stream",
          "name": "stdout",
          "text": [
            "Number of outliers identified using IQR method: 64\n"
          ]
        }
      ],
      "source": [
        "#outliers detection\n",
        "# Select numerical columns\n",
        "num_cols = ['Budget', 'Lead_Actress_rating', 'Critic_rating', 'Time_taken']\n",
        "\n",
        "# Calculate the first quartile (Q1) and third quartile (Q3)\n",
        "Q1 = df[num_cols].quantile(0.25)\n",
        "Q3 = df[num_cols].quantile(0.75)\n",
        "\n",
        "# Interquartile range (IQR)\n",
        "IQR = Q3 - Q1\n",
        "\n",
        "# Define the outlier step\n",
        "outlier_step = 1.5 * IQR\n",
        "\n",
        "# Identify outliers\n",
        "outliers_iqr = ((df[num_cols] < (Q1 - outlier_step)) | (df[num_cols] > (Q3 + outlier_step))).any(axis=1)\n",
        "\n",
        "# Count the number of outliers\n",
        "num_outliers_iqr = outliers_iqr.sum()\n",
        "print(f'Number of outliers identified using IQR method: {num_outliers_iqr}')\n"
      ]
    },
    {
      "cell_type": "code",
      "execution_count": null,
      "id": "ec033a46",
      "metadata": {
        "colab": {
          "base_uri": "https://localhost:8080/",
          "height": 807
        },
        "id": "ec033a46",
        "outputId": "be86c2f8-5e45-4d3b-e73f-9170b2f03b98"
      },
      "outputs": [
        {
          "output_type": "display_data",
          "data": {
            "text/plain": [
              "<Figure size 1000x800 with 4 Axes>"
            ],
            "image/png": "[encoded data removed]"
          },
          "metadata": {}
        }
      ],
      "source": [
        "# Handle outliers using IQR method and plot the outliers\n",
        "plt.figure(figsize=(10, 8))\n",
        "for i, col in enumerate(numerical_cols):\n",
        "    plt.subplot(2, 2, i + 1)\n",
        "    sns.boxplot(x=df[col])\n",
        "    plt.title(f'Boxplot of {col}')\n",
        "    Q1 = df[col].quantile(0.25)\n",
        "    Q3 = df[col].quantile(0.75)\n",
        "    IQR = Q3 - Q1\n",
        "    lower_bound = Q1 - 1.5 * IQR\n",
        "    upper_bound = Q3 + 1.5 * IQR\n",
        "    df = df[(df[col] >= lower_bound) & (df[col] <= upper_bound)]\n",
        "plt.tight_layout()\n",
        "plt.show()"
      ]
    },
    {
      "cell_type": "code",
      "execution_count": null,
      "id": "58affbb2",
      "metadata": {
        "colab": {
          "base_uri": "https://localhost:8080/"
        },
        "id": "58affbb2",
        "outputId": "585ee3ed-573e-4903-813f-c90f6fff993c"
      },
      "outputs": [
        {
          "output_type": "stream",
          "name": "stdout",
          "text": [
            "Number of remaining outliers after cleaning using IQR method: 0\n"
          ]
        }
      ],
      "source": [
        "# Identify outliers\n",
        "outliers = ((df[num_cols] < (Q1 - outlier_step)) | (df[num_cols] > (Q3 + outlier_step))).any(axis=1)\n",
        "\n",
        "# Remove outliers\n",
        "df_cleaned = df[~outliers]\n",
        "\n",
        "# Check for remaining outliers in the cleaned data\n",
        "Q1_cleaned = df_cleaned[num_cols].quantile(0.25)\n",
        "Q3_cleaned = df_cleaned[num_cols].quantile(0.75)\n",
        "IQR_cleaned = Q3_cleaned - Q1_cleaned\n",
        "outlier_step_cleaned = 1.5 * IQR_cleaned\n",
        "\n",
        "# Identify remaining outliers\n",
        "remaining_outliers = ((df_cleaned[num_cols] < (Q1_cleaned - outlier_step_cleaned)) | (df_cleaned[num_cols] > (Q3_cleaned + outlier_step_cleaned))).any(axis=1)\n",
        "\n",
        "# Count the number of remaining outliers\n",
        "num_remaining_outliers = remaining_outliers.sum()\n",
        "print(f'Number of remaining outliers after cleaning using IQR method: {num_remaining_outliers}')"
      ]
    },
    {
      "cell_type": "code",
      "execution_count": null,
      "id": "176336e4",
      "metadata": {
        "id": "176336e4"
      },
      "outputs": [],
      "source": [
        "# Separate features and target variable\n",
        "X = df.drop('Tech_Oscar', axis=1)\n",
        "y = df['Tech_Oscar']"
      ]
    },
    {
      "cell_type": "code",
      "execution_count": null,
      "id": "f14ad68f",
      "metadata": {
        "id": "f14ad68f"
      },
      "outputs": [],
      "source": [
        "# Standardize the features\n",
        "scaler = StandardScaler()\n",
        "X = scaler.fit_transform(X)"
      ]
    },
    {
      "cell_type": "code",
      "execution_count": null,
      "id": "bfa605ac",
      "metadata": {
        "id": "bfa605ac"
      },
      "outputs": [],
      "source": [
        "# Define the KNN model\n",
        "knn = KNeighborsClassifier(n_neighbors=5)"
      ]
    },
    {
      "cell_type": "code",
      "execution_count": null,
      "id": "6a846649",
      "metadata": {
        "id": "6a846649"
      },
      "outputs": [],
      "source": [
        "# Train and evaluate the model using cross-validation\n",
        "cv_scores = cross_val_score(knn, X, y, cv=10, scoring='accuracy')\n",
        "mean_cv_score = cv_scores.mean()"
      ]
    },
    {
      "cell_type": "code",
      "execution_count": null,
      "id": "d6bea653",
      "metadata": {
        "id": "d6bea653"
      },
      "outputs": [],
      "source": [
        "# Fit the model on the entire dataset\n",
        "knn.fit(X, y)\n",
        "y_pred = knn.predict(X)"
      ]
    },
    {
      "cell_type": "code",
      "execution_count": null,
      "id": "45f7381f",
      "metadata": {
        "id": "45f7381f"
      },
      "outputs": [],
      "source": [
        "# Evaluate the model\n",
        "classification_rep = classification_report(y, y_pred)\n",
        "accuracy = accuracy_score(y, y_pred)"
      ]
    },
    {
      "cell_type": "code",
      "execution_count": null,
      "id": "3f571a4a",
      "metadata": {
        "colab": {
          "base_uri": "https://localhost:8080/",
          "height": 564
        },
        "id": "3f571a4a",
        "outputId": "455628fb-541d-42af-a30a-f352453de663"
      },
      "outputs": [
        {
          "output_type": "display_data",
          "data": {
            "text/plain": [
              "<Figure size 800x600 with 1 Axes>"
            ],
            "image/png": "[encoded data removed]"
          },
          "metadata": {}
        }
      ],
      "source": [
        "# Plotting cross-validation scores\n",
        "plt.figure(figsize=(8, 6))\n",
        "plt.plot(cv_scores, marker='o', linestyle='-', color='b')\n",
        "plt.title('Cross-Validation Scores')\n",
        "plt.xlabel('Fold')\n",
        "plt.ylabel('Accuracy')\n",
        "plt.ylim(0, 1)\n",
        "plt.grid(True)\n",
        "plt.show()"
      ]
    },
    {
      "cell_type": "code",
      "execution_count": null,
      "id": "2bf3b887",
      "metadata": {
        "id": "2bf3b887"
      },
      "outputs": [],
      "source": [
        "# Plotting confusion matrix\n",
        "from sklearn.metrics import ConfusionMatrixDisplay"
      ]
    },
    {
      "cell_type": "code",
      "execution_count": null,
      "id": "9c9ab4d0",
      "metadata": {
        "colab": {
          "base_uri": "https://localhost:8080/",
          "height": 472
        },
        "id": "9c9ab4d0",
        "outputId": "1836499b-5874-4ec8-8696-636cb3c92ba6"
      },
      "outputs": [
        {
          "output_type": "display_data",
          "data": {
            "text/plain": [
              "<Figure size 640x480 with 2 Axes>"
            ],
            "image/png": "[encoded data removed]"
          },
          "metadata": {}
        }
      ],
      "source": [
        "ConfusionMatrixDisplay.from_estimator(knn, X, y)\n",
        "plt.title('Confusion Matrix')\n",
        "plt.show()"
      ]
    },
    {
      "cell_type": "code",
      "execution_count": null,
      "id": "f811df6e",
      "metadata": {
        "colab": {
          "base_uri": "https://localhost:8080/"
        },
        "id": "f811df6e",
        "outputId": "553778a0-fe1b-4c4c-9ba4-c65afa97b455"
      },
      "outputs": [
        {
          "output_type": "stream",
          "name": "stdout",
          "text": [
            "Classification Report:\n",
            "              precision    recall  f1-score   support\n",
            "\n",
            "           0       0.67      0.67      0.67       255\n",
            "           1       0.71      0.71      0.71       284\n",
            "\n",
            "    accuracy                           0.69       539\n",
            "   macro avg       0.69      0.69      0.69       539\n",
            "weighted avg       0.69      0.69      0.69       539\n",
            "\n",
            "Accuracy: 0.69\n",
            "Cross-Validation Accuracy: 0.50\n"
          ]
        }
      ],
      "source": [
        "print(\"Classification Report:\")\n",
        "print(classification_rep)\n",
        "print(f\"Accuracy: {accuracy:.2f}\")\n",
        "print(f\"Cross-Validation Accuracy: {mean_cv_score:.2f}\")"
      ]
    },
    {
      "cell_type": "code",
      "execution_count": null,
      "id": "7e6e8f8b",
      "metadata": {
        "id": "7e6e8f8b"
      },
      "outputs": [],
      "source": []
    },
    {
      "cell_type": "code",
      "execution_count": null,
      "id": "9775fc99",
      "metadata": {
        "id": "9775fc99"
      },
      "outputs": [],
      "source": []
    },
    {
      "cell_type": "code",
      "execution_count": null,
      "id": "b9731e1b",
      "metadata": {
        "id": "b9731e1b"
      },
      "outputs": [],
      "source": []
    }
  ],
  "metadata": {
    "kernelspec": {
      "display_name": "Python 3 (ipykernel)",
      "language": "python",
      "name": "python3"
    },
    "language_info": {
      "codemirror_mode": {
        "name": "ipython",
        "version": 3
      },
      "file_extension": ".py",
      "mimetype": "text/x-python",
      "name": "python",
      "nbconvert_exporter": "python",
      "pygments_lexer": "ipython3",
      "version": "3.11.5"
    },
    "colab": {
      "provenance": []
    }
  },
  "nbformat": 4,
  "nbformat_minor": 5
}